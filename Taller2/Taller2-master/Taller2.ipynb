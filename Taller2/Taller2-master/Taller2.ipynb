{
 "cells": [
  {
   "cell_type": "markdown",
   "metadata": {},
   "source": [
    "# Taller 2. Simulador de vuelta de kart#\n",
    "\n",
    "### Camilo Garcia 201417471 ###\n",
    "\n",
    "A continuacion se empezara definiendo las funciones necesarias para la realizacion de la simulacion del kart\n",
    "electrico.\n",
    "\n",
    "## Objetivos ##\n",
    "\n",
    "- Generar funciones para predecir el comportamiento del carro acelerando hasta una velocidad maxima\n",
    "- Generar funciones para predecir el comportamiento del carro frenando desde velocidad maxima hasta velocidad 0\n",
    "- Calcular la velocidad maxima alcanzada por el carro\n",
    "- Calcular la distancia recorrida por el carro desde que inicia a velocidad cero, acelera hasta velocidad maxima y vuelve a llegar a velocidad cero.\n",
    "- Analizar el efecto de los parametros (masa, eficiencia, relacion de transimision) del kart en terminos de aceleracion, velocidad maxima\n",
    "\n",
    "## Definicion de parametros ##\n",
    "\n",
    "\n",
    "<div style=\"text-align: justify\"> A continuacion se definen las constantes del Kart. Se utilizaran las dimensiones medidas por Mariana. En la siguiente seccion se definiran los parametros como: Masas, radios, radio efectivo, masa efectiva , relacion de transmision, eficiencia de transmision, momentos de inercia entre otros. El valor de relacion de transmision se puede cambiar al valor calculado por clavijo. </div>"
   ]
  },
  {
   "cell_type": "code",
   "execution_count": 1,
   "metadata": {},
   "outputs": [
    {
     "name": "stdout",
     "output_type": "stream",
     "text": [
      "Populating the interactive namespace from numpy and matplotlib\n"
     ]
    }
   ],
   "source": [
    "\n",
    "%pylab inline\n",
    "from scipy.integrate import odeint\n",
    "import pandas as pd\n",
    "import matplotlib.pyplot as plt\n",
    "\n",
    "\n",
    "rll=0.139 # Radio geométrico de las llantas en traseras (m)\n",
    "refc=0.98*rll # Radio efectivo llantas traseras (m)\n",
    "rin=0.0631 #radio interno del neumático (m)\n",
    "rlld=0.129 # Radio llantas delanteras (m)\n",
    "rind=0.0631 # Radio rin llantas delanteras (m)\n",
    "\n",
    "# Datos Transmisión\n",
    "dp=11 # Dientes del piñon\n",
    "dpl=39 # Dientes del plato\n",
    "ng=dpl/dp # Relación de Transmisión\n",
    "etaf=0.95 # Eficiencia de transmisión\n",
    "\n",
    "# Datos eje llantas\n",
    "reje=0.02 # Radio eje de las llantas (m)\n",
    "meje=3.832 # Masa del eje (kg)\n",
    "\n",
    "# Datos Kart general\n",
    "masa=152.0 # masa del Kart (kg)\n",
    "g=9.81 # Gravedad (m/s)\n",
    "w=masa*g # peso del Kart (N)\n",
    "\n",
    "# Datos Fuerzas de la fórmula de aceleración\n",
    "rho=1.1955 # densidad del aire (kg/m^3)\n",
    "dll=0.975 # Distancia entre ejes de llantas delanteras (m)\n",
    "alj=0.88 # Altura con el piloto sentado en el kart (estatura 1.68 m) (m)\n",
    "af=(dll*alj)/2 # Area Frontal Kart (m^2)\n",
    "cd=0.89 # Coeficiente de Arrastre Kart\n",
    "vw=0.0 # velocidad del viento (m/s)\n",
    "theta=0.0 # Angulo carretera\n",
    "\n",
    "# Inercias\n",
    "ii=5.2E-3 # Inercia motor de combustión (kg m^2) \n",
    "\n",
    "mllt=1.43 # Masa llantas traseras (kg)\n",
    "mlld=1.20 # Masa llantas delanteras (kg)\n",
    "\n",
    "mbt=0.7*mllt # El porcentaje de la masa total que pesa la parte \"banda\" de la llanta trasera\n",
    "mdt=0.3*mllt # El porcentaje de la masa total que pesa la parte \"disco\" de la llanta trasera\n",
    "mbd=0.7*mlld # El porcentaje de la masa total que pesa la parte \"banda\" de la llanta delantera\n",
    "mdd=0.3*mlld # El porcentaje de la masa total que pesa la parte \"disco\" de la llanta delantera\n",
    "illd=(mbd*rlld)+(mdd*(rlld**2-rind**2))/2 # Inercia 1 llanta delantera (kg-m^2)\n",
    "illt=(mbt*rll)+(mdt*(rll**2-rin**2))/2 # Inercia 1 llanta trasera (kg-m^2)\n",
    "\n",
    "#paso=7.62 #(mm)\n",
    "#rpim= paso*(0.6+(1/tan(180/dp))) # Radio Piñon (mm)\n",
    "#rplam=paso*(0.6+(1/tan(180/dpl))) # Radio Plato (mm)\n",
    "#rpi= rpim/1000 #Radio Piñon (m)\n",
    "#rpla= rplam/1000 #Radio Plato (m)\n",
    "rpi=0.01525#(m)\n",
    "rpla=0.04096 #(m)\n",
    "rhoac=7850.0 # Densidad del Acero (kg/m^3)\n",
    "bpi=0.01 # Ancho piñon (m)\n",
    "bpla=0.02 # Ancho plato (m)\n",
    "vpi= bpi*np.pi*rpi**2 # Volumen del piñon (m^3)\n",
    "vpla=bpla*np.pi*rpla**2 # Volumen del plato (m^3)\n",
    "mpi=rhoac*vpi # Masa del piñon (kg)\n",
    "mpla=rhoac*vpla # Masa del plato (kg)\n",
    "ig=((mpi*(rpi**2))/2.0)+((mpla*(rpla**2))/2.0) # Inercia de la transmisión (kg-m^2)\n",
    " \n",
    "\n",
    "ieje=(meje*reje**2)/2.0 # Inercia del eje de las llantas (kg-m^2)\n",
    "\n",
    "# Fuerzas Aceleración\n",
    "# Resistencia a la rodadura\n",
    "a=0.2231 # Distancia del centro de gravedad al eje de la llanta trasera (m)\n",
    "l=1.0063 # Distancia de eje de las llantas traseras y delanteras (m)\n",
    "h=0.07478 # Altura del centro de gravedad del kart con respecto al piso (m)\n",
    "\n",
    "gamma = 1 # aceleracion\n",
    "\n",
    "# Aceleración, Fuerza de tracción\n",
    "mr=((((ii-ig)*ng**2))+ieje+illd*2+illt*2)/(refc**2)\n"
   ]
  },
  {
   "cell_type": "markdown",
   "metadata": {},
   "source": [
    "## Funciones ##\n",
    "\n",
    "\n",
    "<div style=\"text-align: justify\"> Esta es la seccion de funciones.  La siguiente seccion se definiran todas las funciones necesarias para predecir el comportamiento del carro tanto en aceleracion como en frenado. Esta seccion se compone de 3 partes: Fuerzas; acelerado y frenado; medicion de tiempo, velocidad, aceleracion y graficas. </div>\n",
    "\n",
    "\n",
    "### Primer parte ###\n",
    "<div style=\"text-align: justify\"> La primer parte se compone de la definicion de las fuerzas, necesarias para el modelo dinamico de aceleracion y frenado. Entre las funciones definidas esta fuerza de rodadura (con velocidad constante y con aceleracion, fuerza de arraste, fuerza de traccion, la funcion que devuelve la velocidad angular del motor en rad/s , la funcion potencia que mide la potencia den entrega del motor, y la funcion torque que entrega el torque del motor </div>\n",
    "\n",
    "\n",
    "\n"
   ]
  },
  {
   "cell_type": "code",
   "execution_count": 2,
   "metadata": {
    "collapsed": true
   },
   "outputs": [],
   "source": [
    "def frodadura(vx,ax):\n",
    "    wr=w*((a/l)+(ax/g*(h/l))) # fuerza vertical sobre las llantas tractivas\n",
    "    fr=0.01*(1+(vx/100.0)) # Factor de rodadura la velocidad del kart debe estar en (km/h)\n",
    "    # fr=C*((mllt*g)/(rllt*2))*sqrt(ht/bllt)\n",
    "    # ht=0.0739 # Altura del neumático (m)\n",
    "    # bllt=0.209 # Ancho del neumático (m)\n",
    "    # C= # Constante del material de la llanta\n",
    "    return wr*fr # (N)\n",
    "\n",
    "def frodadura_const(vx):\n",
    "    fr=0.01*(1+(vx/100.0)) # Factor de rodadura la velocidad del kart debe estar en (km/h)\n",
    "    return w*fr # (N)\n",
    "\n",
    "def farrastre(vx):\n",
    "    return (0.5)*rho*af*cd*(vx)**2 # (N)\n",
    "\n",
    "def ftraccion(ax,Fg,Fw,Fr):\n",
    "    # Ft=((ti*ng*etaf)/refc)-(((ii-ig)*ng^2)+ieje+illd*2+illt*2)*(ax/(refc^2)) # (N)\n",
    "    return masa*ax+Fg+Fw+Fr\n",
    "\n",
    "def ftraccion2(ax):\n",
    "    Ft=((ti*ng*etaf)/refc)-(((ii-ig)*ng**2)+ieje+illd*2+illt*2)*(ax/(refc**2)) # (N)\n",
    "    return FT\n",
    "\n",
    "\n",
    "def omega(vx):\n",
    "    x=(vx*ng)/refc\n",
    " \n",
    "    if x>=523.6:\n",
    "        x=523.6\n",
    "    \n",
    "    \n",
    "    return x # (rad/s)\n",
    "\n",
    "\n",
    "\n",
    "def potencia(vx):\n",
    "    o=omega(vx)\n",
    "    omega1=o*(60/(2*pi))\n",
    "    #p=((-0.00000004564538677*omega1**3)+(0.0001056995459*omega1**2)+(1.53209191*omega1)-(12.895523696))\n",
    "    p=((-3.6E-8*omega1**3)+(2.99E-5*omega1**2)+(1.53209191*omega1)-(0.595523696))\n",
    "\n",
    "        \n",
    "    return p\n",
    "\n",
    "def torque(vx):\n",
    "    p=potencia(vx)\n",
    "    o=omega(vx)\n",
    "\n",
    "    t=p/o\n",
    "    \n",
    "    if o<=1.0:\n",
    "        t=1.5\n",
    "        \n",
    "    return t"
   ]
  },
  {
   "cell_type": "markdown",
   "metadata": {},
   "source": [
    "### Segunda Parte ###\n",
    "\n",
    "<div style=\"text-align: justify\"> En la segunda parte se define la funcion a el cual utiliza las funciones de fuerza para modelar el comportamiento del carro acelerando desde velocidad cero a velocidad maxima. En en el mismo orden de ideas, se defina la funcion afrenado la cual tambien utiliza las funciones de fuerza de la primer parte. </div>\n",
    "\n",
    "\n",
    "A continuacion se presenta la funcion de aceleracion del Kart, la ecuacion utilizada se expondra a cotinuacion:\n",
    "\n",
    "$$a_x=(\\frac{T_e N_c \\mu }{r_e}-R_x-D_a)\\frac{1}{M+M_r}$$\n",
    "\n",
    "Donde ax es la aceleracion del carro, T_e el torque del motor, N_c la relacion de transimicion, \\mu la eficiencia den transmicion, r_e el radio efectivo de las llantas, Rx la fuerza de rodadura, D_a la fuerza de arrastre, M la masa del kart y M_r es la masa efectiva de las otras partes del Kart.\n",
    "\n",
    "- <div style=\"text-align: justify\"> Para resolver la ecuacion diferencial se utilizara la funcion ODEIN. Para que esta funcion sirva es necesario que la funcion tenga 2 parametros de entrada, posicion y tiempo. Como consecuencia esta funcion retornara un array de velocidad y aceleracion </div>\n"
   ]
  },
  {
   "cell_type": "code",
   "execution_count": 3,
   "metadata": {
    "collapsed": true
   },
   "outputs": [],
   "source": [
    "def a(x1,t):\n",
    "    x1, v1=x1\n",
    "    a=(torque(v1)*ng*etaf*(1/refc)-frodadura_const(v1)-farrastre(v1))*(1/(masa+mr))\n",
    "\n",
    "   \n",
    "    dxdt=[v1,a]\n",
    "    return dxdt"
   ]
  },
  {
   "cell_type": "markdown",
   "metadata": {},
   "source": [
    "En el mismo orden de ideas, se define la funcion de frenado del Kart, la ecuacion del modelo de frenado es igual a:\n",
    "\n",
    "$$a_f=(-\\frac{T_f}{r_e}-R_x-D_a)\\frac{1}{M+M_r}$$\n",
    "\n",
    "<div style=\"text-align: justify\"> Donde a_f es la aceleracion de frenado y la relacion T_f/t_ef es la fuerza de frenado, cabe resaltar la diferencia de signos en esta ecuacion con la anterior. En la ecuacion anterior, la fuerza generada por el torque es positiva y las demas fuerzas negativas porque impiden la aceleracion del motor. Mientras que en esta ecuacion todas las fuerzas son negativas y ayudan al frenado. Otro punto a resaltar es que no se toma encuenca ni la relacion de transmicion ni la eficiencia de transmicion debido a que la fuerza de frenado se aplica directamente a las llantas traseras. </div>\n",
    "\n",
    "- <div style=\"text-align: justify\"> La funcion de frenado tambien tendra 2 parametros de entrada, posicion y tiempo; y retornara velocidad y aceleracion. La funcion final sera:</div>"
   ]
  },
  {
   "cell_type": "code",
   "execution_count": 4,
   "metadata": {
    "collapsed": true
   },
   "outputs": [],
   "source": [
    "def afrenado(x1, t):\n",
    "    x, v1=x1\n",
    "    \n",
    "    if v1<=0:\n",
    "        dxdt=[0,0]\n",
    "        return dxdt\n",
    "        \n",
    "    af=((-17*(1/refc)-frodadura_const(v1)-farrastre(v1))*(1/(masa+mr)))\n",
    "    ##af=((-420+frodadura_const(v1)+farrastre(v1))*(1/(masa+mr)))\n",
    "    \n",
    "    \n",
    "    \n",
    "        \n",
    "    \n",
    "\n",
    "    dxdt=[v1,af]\n",
    "    return dxdt"
   ]
  },
  {
   "cell_type": "code",
   "execution_count": 125,
   "metadata": {},
   "outputs": [],
   "source": [
    "x0 =[0,0.1]\n",
    "\n",
    "t = linspace(0, 100, 100)\n",
    "t2 = linspace (100, 150, 100)\n",
    "\n",
    "integral=odeint(a,x0,t)\n",
    "\n",
    "x1=[np.max(integral[:,0]),np.max(integral[:,1])]\n",
    "integral2=odeint(afrenado,x1,t2)"
   ]
  },
  {
   "cell_type": "markdown",
   "metadata": {},
   "source": [
    "### Tercera Parte: ###\n",
    "\n",
    "<div style=\"text-align: justify\"> En esta ultima parte se define la funcion acelerar y frenar la cual tiene varios objetivos: medir la distancia total recorrida por el kart desde que inicia con velocidad cero, alcanza velocidad maxima y vuelve a velocidad cero, medir el tiempo de este proceso, medir la velocidad maxima, calcular la aceleracion promedio desde velocidad cero hasta velocidad maxima (acelerando), y tambien la aceleracion promedio desde velocidad maxima a cero (frenando).</div>\n",
    "\n",
    "- <div style=\"text-align: justify\">Esta funcion no tiene ningun aprametro de entrada, pero si utiliza la funcion ODEIN, la cual recibe como entrada una funcion, un vector con valores iniciales de posicion y velocidad y un vector de tiempo. La funcion resolvera la ecuacion diferencial y retornara un array de posicion y velocidad. </div>"
   ]
  },
  {
   "cell_type": "code",
   "execution_count": 6,
   "metadata": {
    "collapsed": true
   },
   "outputs": [],
   "source": [
    "def aceleraryfrenar():\n",
    "    \n",
    "    \n",
    "    t0 = linspace(0, 10, 100)\n",
    "    x0=[0,0.1]\n",
    "    integral0=odeint(a,x0,t0)\n",
    "   \n",
    "    for tiempo in range (0, 200):\n",
    "        t1=linspace(tiempo*10+10, tiempo*10+15, 100)\n",
    "        x1=[integral0[-1,0],integral0[-1,1]]\n",
    "        integral0=odeint(a,x1,t1)\n",
    "        \n",
    "        \n",
    "        if (integral0[-1,1]-integral0[-2,1])<=0.001:\n",
    "            \n",
    "            tacel=linspace(0, tiempo*10+10, 100)\n",
    "            vmax=integral0[-1,1]\n",
    "            acelproma=integral0[-1,1]/(tiempo*10+10)\n",
    "            integralacel=odeint(a,x0,tacel)\n",
    "            x2=[np.max(integralacel[:,0]),np.max(integralacel[:,1])]\n",
    "            t2=linspace(tiempo*10+10, tiempo*10+15, 100)\n",
    "            integral2=odeint(afrenado,x2,t2)\n",
    "            \n",
    "            for tiempo2 in range (0,200):\n",
    "                t3 = linspace(10*tiempo+tiempo2+15, 10*tiempo+tiempo2+16, 100)\n",
    "                x3=[integral2[-1,0],integral2[-1,1]]\n",
    "                integral2=odeint(afrenado,x3,t3)\n",
    "                \n",
    "                if integral2[-1,1]<=0.1:\n",
    "                    tiempototal=10*tiempo+tiempo2+16\n",
    "                    acelpromf=integral0[-1,1]/tiempo2+6\n",
    "                    break\n",
    "                \n",
    "            tfren=linspace(tiempo*10+10, 10*tiempo+100, 100)\n",
    "            integralfren=odeint(afrenado,x2,tfren)\n",
    "            break\n",
    "            \n",
    "    graficaacel=plt.plot(tacel, integralacel[:, 1], 'g', label='velocidad acel(m/s)')\n",
    "    graficafren=plt.plot(tfren, integralfren[:, 1], 'k', label='velocidad frenado(m/s)')\n",
    "    plt.legend(loc='best')\n",
    "    plt.xlabel('t (s)')\n",
    "    plt.ylabel('vel (m/s)')\n",
    "    plt.grid()\n",
    "    plt.show()\n",
    "    \n",
    "    return graficaacel, graficafren"
   ]
  },
  {
   "cell_type": "code",
   "execution_count": 7,
   "metadata": {
    "collapsed": true
   },
   "outputs": [],
   "source": [
    "def resultados():\n",
    "    \n",
    "    \n",
    "    t0 = linspace(0, 10, 100)\n",
    "    x0=[0,0.1]\n",
    "    integral0=odeint(a,x0,t0)\n",
    "   \n",
    "    for tiempo in range (0, 200):\n",
    "        t1=linspace(tiempo*10+10, tiempo*10+15, 100)\n",
    "        x1=[integral0[-1,0],integral0[-1,1]]\n",
    "        integral0=odeint(a,x1,t1)\n",
    "        \n",
    "        \n",
    "        if (integral0[-1,1]-integral0[-2,1])<=0.001:\n",
    "            \n",
    "            tacel=linspace(0, tiempo*10+10, 100)\n",
    "            vmax=integral0[-1,1]\n",
    "            acelproma=integral0[-1,1]/(tiempo*10+10)\n",
    "            integralacel=odeint(a,x0,tacel)\n",
    "            x2=[np.max(integralacel[:,0]),np.max(integralacel[:,1])]\n",
    "            t2=linspace(tiempo*10+10, tiempo*10+15, 100)\n",
    "            integral2=odeint(afrenado,x2,t2)\n",
    "            \n",
    "            for tiempo2 in range (0,200):\n",
    "                t3 = linspace(10*tiempo+tiempo2+15, 10*tiempo+tiempo2+16, 100)\n",
    "                x3=[integral2[-1,0],integral2[-1,1]]\n",
    "                integral2=odeint(afrenado,x3,t3)\n",
    "                \n",
    "                if integral2[-1,1]<=0.1:\n",
    "                    tiempototal=10*tiempo+tiempo2+16\n",
    "                    acelpromf=integral0[-1,1]/tiempo2+6\n",
    "                    break\n",
    "                \n",
    "            tfren=linspace(tiempo*10+10, 10*tiempo+100, 100)\n",
    "            integralfren=odeint(afrenado,x2,tfren)\n",
    "            break\n",
    "            \n",
    "    mensaje='el tiempo desde proceso de arrancada desde cero, llegar a velocidad máxima y frenar a velocidad cero es',tiempototal,'segundos'\n",
    "    mensaje2='La distancia desde proceso de arrancada desde cero, llegar a velocidad máxima y frenar a velocidad cero es', integralfren[-1,0],'m'\n",
    "    mensaje3='La velocidad maxima del kart es', vmax, 'm/s'\n",
    "    mensaje4='La aceleracion promedio en la primer etapa es', acelproma,'m^2/s'\n",
    "    mensaje5='La aceleracion promedio en la segunda etapa es', acelpromf,'m^2/s'\n",
    "    return  mensaje, mensaje2, mensaje3, mensaje4, mensaje5\n",
    "                    "
   ]
  },
  {
   "cell_type": "code",
   "execution_count": 8,
   "metadata": {},
   "outputs": [
    {
     "name": "stderr",
     "output_type": "stream",
     "text": [
      "/Users/camilogarciatorres/anaconda3/lib/python3.6/site-packages/scipy/integrate/odepack.py:218: ODEintWarning: Excess work done on this call (perhaps wrong Dfun type). Run with full_output = 1 to get quantitative information.\n",
      "  warnings.warn(warning_msg, ODEintWarning)\n"
     ]
    },
    {
     "data": {
      "image/png": "[encoded data removed]",
      "text/plain": [
       "<matplotlib.figure.Figure at 0x10fa01518>"
      ]
     },
     "metadata": {},
     "output_type": "display_data"
    },
    {
     "data": {
      "text/plain": [
       "([<matplotlib.lines.Line2D at 0x15145bd668>],\n",
       " [<matplotlib.lines.Line2D at 0x15145bd8d0>])"
      ]
     },
     "execution_count": 8,
     "metadata": {},
     "output_type": "execute_result"
    }
   ],
   "source": [
    "aceleraryfrenar()"
   ]
  },
  {
   "cell_type": "code",
   "execution_count": 126,
   "metadata": {},
   "outputs": [
    {
     "name": "stderr",
     "output_type": "stream",
     "text": [
      "/Users/camilogarciatorres/anaconda3/lib/python3.6/site-packages/scipy/integrate/odepack.py:218: ODEintWarning: Excess work done on this call (perhaps wrong Dfun type). Run with full_output = 1 to get quantitative information.\n",
      "  warnings.warn(warning_msg, ODEintWarning)\n"
     ]
    },
    {
     "data": {
      "text/plain": [
       "(('el tiempo desde proceso de arrancada desde cero, llegar a velocidad máxima y frenar a velocidad cero es',\n",
       "  140,\n",
       "  'segundos'),\n",
       " ('La distancia desde proceso de arrancada desde cero, llegar a velocidad máxima y frenar a velocidad cero es',\n",
       "  3540.4226308661678,\n",
       "  'm'),\n",
       " ('La velocidad maxima del kart es', 32.24735132661624, 'm/s'),\n",
       " ('La aceleracion promedio en la primer etapa es',\n",
       "  0.29315773933287492,\n",
       "  'm^2/s'),\n",
       " ('La aceleracion promedio en la segunda etapa es',\n",
       "  7.3436396386090097,\n",
       "  'm^2/s'))"
      ]
     },
     "execution_count": 126,
     "metadata": {},
     "output_type": "execute_result"
    }
   ],
   "source": [
    "resultados()"
   ]
  },
  {
   "cell_type": "markdown",
   "metadata": {},
   "source": [
    "## Analisis ##\n",
    "\n",
    "### VARIACION DE PARAMETROS PARA EL KART PARA ACELERACION ##\n",
    "### MASA: ###"
   ]
  },
  {
   "cell_type": "code",
   "execution_count": 85,
   "metadata": {},
   "outputs": [],
   "source": [
    "#masa= 152\n",
    "#masa= 160\n",
    "masa= 140\n",
    "\n",
    "ng=3.4\n",
    "cd=0.89\n"
   ]
  },
  {
   "cell_type": "code",
   "execution_count": 82,
   "metadata": {},
   "outputs": [
    {
     "data": {
      "text/plain": [
       "(('el tiempo desde proceso de arrancada desde cero, llegar a velocidad máxima y frenar a velocidad cero es',\n",
       "  137,\n",
       "  'segundos'),\n",
       " ('La distancia desde proceso de arrancada desde cero, llegar a velocidad máxima y frenar a velocidad cero es',\n",
       "  2865.3710228445079,\n",
       "  'm'),\n",
       " ('La velocidad maxima del kart es', 26.05048875203849, 'm/s'),\n",
       " ('La aceleracion promedio en la primer etapa es',\n",
       "  0.23682262501853171,\n",
       "  'm^2/s'),\n",
       " ('La aceleracion promedio en la segunda etapa es',\n",
       "  7.2404994643827854,\n",
       "  'm^2/s'))"
      ]
     },
     "execution_count": 82,
     "metadata": {},
     "output_type": "execute_result"
    }
   ],
   "source": [
    "masa1=resultados()\n",
    "x0 =[0,0.1]\n",
    "t0 = linspace(0, 100, 100)\n",
    "amasa1=odeint(a,x0,t0)\n",
    "masa1"
   ]
  },
  {
   "cell_type": "code",
   "execution_count": 84,
   "metadata": {},
   "outputs": [
    {
     "data": {
      "text/plain": [
       "(('el tiempo desde proceso de arrancada desde cero, llegar a velocidad máxima y frenar a velocidad cero es',\n",
       "  148,\n",
       "  'segundos'),\n",
       " ('La distancia desde proceso de arrancada desde cero, llegar a velocidad máxima y frenar a velocidad cero es',\n",
       "  3127.2700645359014,\n",
       "  'm'),\n",
       " ('La velocidad maxima del kart es', 26.085005426399061, 'm/s'),\n",
       " ('La aceleracion promedio en la primer etapa es',\n",
       "  0.21737504521999218,\n",
       "  'm^2/s'),\n",
       " ('La aceleracion promedio en la segunda etapa es',\n",
       "  7.1856820648363211,\n",
       "  'm^2/s'))"
      ]
     },
     "execution_count": 84,
     "metadata": {},
     "output_type": "execute_result"
    }
   ],
   "source": [
    "masa2=resultados()\n",
    "x0 =[0,0.1]\n",
    "t0 = linspace(0, 100, 100)\n",
    "amasa2=odeint(a,x0,t0)\n",
    "masa2"
   ]
  },
  {
   "cell_type": "code",
   "execution_count": 86,
   "metadata": {},
   "outputs": [
    {
     "name": "stderr",
     "output_type": "stream",
     "text": [
      "/Users/camilogarciatorres/anaconda3/lib/python3.6/site-packages/scipy/integrate/odepack.py:218: ODEintWarning: Excess work done on this call (perhaps wrong Dfun type). Run with full_output = 1 to get quantitative information.\n",
      "  warnings.warn(warning_msg, ODEintWarning)\n"
     ]
    },
    {
     "data": {
      "text/plain": [
       "(('el tiempo desde proceso de arrancada desde cero, llegar a velocidad máxima y frenar a velocidad cero es',\n",
       "  137,\n",
       "  'segundos'),\n",
       " ('La distancia desde proceso de arrancada desde cero, llegar a velocidad máxima y frenar a velocidad cero es',\n",
       "  2867.3440042683069,\n",
       "  'm'),\n",
       " ('La velocidad maxima del kart es', 26.121345588231275, 'm/s'),\n",
       " ('La aceleracion promedio en la primer etapa es',\n",
       "  0.23746677807482977,\n",
       "  'm^2/s'),\n",
       " ('La aceleracion promedio en la segunda etapa es',\n",
       "  7.2438735994395849,\n",
       "  'm^2/s'))"
      ]
     },
     "execution_count": 86,
     "metadata": {},
     "output_type": "execute_result"
    }
   ],
   "source": [
    "masa3=resultados()\n",
    "x0 =[0,0.1]\n",
    "t0 = linspace(0, 100, 100)\n",
    "amasa3=odeint(a,x0,t0)\n",
    "masa3"
   ]
  },
  {
   "cell_type": "markdown",
   "metadata": {},
   "source": [
    "A continuacion se presenta una tabla con los valores de la variacion de masas:\n",
    "    \n",
    "| Masa Kart (kg)        | 140  | 152  | 160  |\n",
    "|-----------------------|------|------|------|\n",
    "| Vmax (m/s)            | 26.0 | 26.0 | 26.1 |\n",
    "| Distancia total (km)* | 2.8  | 2.8  | 3.1  |\n",
    "\n",
    "<div style=\"text-align: center\">**Tabla 1. Variacion de velocidad maxima y distancia total para diferentes parametros de masa** </div>\n",
    "\n",
    "Como podemos ver. Para una variacion de alrededor de 10kg del Kart, ya sea por la el cambio del piloto (uno con mayor o menor masa), cambio de baterias u otra razon esto no afecta de manera significativa la velocidad maxima de aceleracion del kart. La diferencia maxima es de 0.1 m/s. Se procedera a graficar las graficas con diferentes valores de masa."
   ]
  },
  {
   "cell_type": "code",
   "execution_count": 87,
   "metadata": {},
   "outputs": [
    {
     "data": {
      "image/png": "[encoded data removed]",
      "text/plain": [
       "<matplotlib.figure.Figure at 0x151cc53630>"
      ]
     },
     "metadata": {},
     "output_type": "display_data"
    }
   ],
   "source": [
    "g1=plt.plot(t0, amasa1[:, 1], 'g', label='masa 140kg')\n",
    "g2=plt.plot(t0, amasa2[:, 1], 'r', label='masa 152kg')\n",
    "g3=plt.plot(t0, amasa3[:, 1], 'b', label='masa 160kg')\n",
    "\n",
    "plt.legend(loc='best')\n",
    "plt.xlabel('t (s)')\n",
    "plt.ylabel('vel (m/s)')\n",
    "plt.grid()\n",
    "plt.show()"
   ]
  },
  {
   "cell_type": "markdown",
   "metadata": {},
   "source": [
    "<div style=\"text-align: left\">**Grafica 1. Variacion de velocidad maxima y distancia total para diferentes parametros de masa** </div>\n",
    "\n",
    "Como podemos ver de la anterior grafica y a tabla de resultados, la masa no afecta de manera significativa la velocidad del kart. En general la velocidad no vario mas de 0.1 m/s para una variacion de alrededor de 10 kg. Las otras fuerzas que afectan el modelo dinamico tienen mas peso en la ecuacion utilizada."
   ]
  },
  {
   "cell_type": "markdown",
   "metadata": {},
   "source": [
    "### RELACION DE TRANSMISION:###"
   ]
  },
  {
   "cell_type": "code",
   "execution_count": 134,
   "metadata": {},
   "outputs": [
    {
     "data": {
      "text/plain": [
       "(('el tiempo desde proceso de arrancada desde cero, llegar a velocidad máxima y frenar a velocidad cero es',\n",
       "  137,\n",
       "  'segundos'),\n",
       " ('La distancia desde proceso de arrancada desde cero, llegar a velocidad máxima y frenar a velocidad cero es',\n",
       "  2865.3710228445079,\n",
       "  'm'),\n",
       " ('La velocidad maxima del kart es', 26.05048875203849, 'm/s'),\n",
       " ('La aceleracion promedio en la primer etapa es',\n",
       "  0.23682262501853171,\n",
       "  'm^2/s'),\n",
       " ('La aceleracion promedio en la segunda etapa es',\n",
       "  7.2404994643827854,\n",
       "  'm^2/s'))"
      ]
     },
     "execution_count": 134,
     "metadata": {},
     "output_type": "execute_result"
    }
   ],
   "source": [
    "masa= 152\n",
    "cd=0.89\n",
    "ng=3 \n",
    "#ng=4\n",
    "#ng=5\n",
    "\n"
   ]
  },
  {
   "cell_type": "code",
   "execution_count": 135,
   "metadata": {},
   "outputs": [
    {
     "name": "stderr",
     "output_type": "stream",
     "text": [
      "/Users/camilogarciatorres/anaconda3/lib/python3.6/site-packages/scipy/integrate/odepack.py:218: ODEintWarning: Excess work done on this call (perhaps wrong Dfun type). Run with full_output = 1 to get quantitative information.\n",
      "  warnings.warn(warning_msg, ODEintWarning)\n"
     ]
    },
    {
     "data": {
      "text/plain": [
       "(('el tiempo desde proceso de arrancada desde cero, llegar a velocidad máxima y frenar a velocidad cero es',\n",
       "  140,\n",
       "  'segundos'),\n",
       " ('La distancia desde proceso de arrancada desde cero, llegar a velocidad máxima y frenar a velocidad cero es',\n",
       "  3540.4226308661678,\n",
       "  'm'),\n",
       " ('La velocidad maxima del kart es', 32.24735132661624, 'm/s'),\n",
       " ('La aceleracion promedio en la primer etapa es',\n",
       "  0.29315773933287492,\n",
       "  'm^2/s'),\n",
       " ('La aceleracion promedio en la segunda etapa es',\n",
       "  7.3436396386090097,\n",
       "  'm^2/s'))"
      ]
     },
     "execution_count": 135,
     "metadata": {},
     "output_type": "execute_result"
    }
   ],
   "source": [
    "ng1=resultados()\n",
    "x1 =[0,0.1]\n",
    "t1 = linspace(0, 100, 100)\n",
    "ang1=odeint(a,x1,t1)\n",
    "ng1"
   ]
  },
  {
   "cell_type": "code",
   "execution_count": 92,
   "metadata": {},
   "outputs": [
    {
     "data": {
      "text/plain": [
       "(('el tiempo desde proceso de arrancada desde cero, llegar a velocidad máxima y frenar a velocidad cero es',\n",
       "  148,\n",
       "  'segundos'),\n",
       " ('La distancia desde proceso de arrancada desde cero, llegar a velocidad máxima y frenar a velocidad cero es',\n",
       "  3412.8292375962942,\n",
       "  'm'),\n",
       " ('La velocidad maxima del kart es', 28.583106175540177, 'm/s'),\n",
       " ('La aceleracion promedio en la primer etapa es',\n",
       "  0.2381925514628348,\n",
       "  'm^2/s'),\n",
       " ('La aceleracion promedio en la segunda etapa es', 7.29923209888819, 'm^2/s'))"
      ]
     },
     "execution_count": 92,
     "metadata": {},
     "output_type": "execute_result"
    }
   ],
   "source": [
    "ng2=resultados()\n",
    "x0 =[0,0.1]\n",
    "t0 = linspace(0, 100, 100)\n",
    "ang2=odeint(a,x0,t0)\n",
    "ng2"
   ]
  },
  {
   "cell_type": "code",
   "execution_count": 94,
   "metadata": {},
   "outputs": [
    {
     "name": "stderr",
     "output_type": "stream",
     "text": [
      "/Users/camilogarciatorres/anaconda3/lib/python3.6/site-packages/scipy/integrate/odepack.py:218: ODEintWarning: Excess work done on this call (perhaps wrong Dfun type). Run with full_output = 1 to get quantitative information.\n",
      "  warnings.warn(warning_msg, ODEintWarning)\n"
     ]
    },
    {
     "data": {
      "text/plain": [
       "(('el tiempo desde proceso de arrancada desde cero, llegar a velocidad máxima y frenar a velocidad cero es',\n",
       "  140,\n",
       "  'segundos'),\n",
       " ('La distancia desde proceso de arrancada desde cero, llegar a velocidad máxima y frenar a velocidad cero es',\n",
       "  3540.4226308661678,\n",
       "  'm'),\n",
       " ('La velocidad maxima del kart es', 32.24735132661624, 'm/s'),\n",
       " ('La aceleracion promedio en la primer etapa es',\n",
       "  0.29315773933287492,\n",
       "  'm^2/s'),\n",
       " ('La aceleracion promedio en la segunda etapa es',\n",
       "  7.3436396386090097,\n",
       "  'm^2/s'))"
      ]
     },
     "execution_count": 94,
     "metadata": {},
     "output_type": "execute_result"
    }
   ],
   "source": [
    "ng3=resultados()\n",
    "x0 =[0,0.1]\n",
    "t0 = linspace(0, 100, 100)\n",
    "ang3=odeint(a,x0,t0)\n",
    "ng3"
   ]
  },
  {
   "cell_type": "markdown",
   "metadata": {},
   "source": [
    "A continuacion se presenta una tabla con los valores de la variacion de relacion de transmicion ng:\n",
    "    \n",
    "| Relacion de transmision| 3    | 4    | 5    |\n",
    "|------------------------|------|------|------|\n",
    "| Vmax (m/s)             | 24.3 | 28.5 | 32.2 |\n",
    "| Distancia total (km)*  | 2.21 | 3.41 | 3.54 |\n",
    "\n",
    "<div style=\"text-align: center\">**Tabla 1. Variacion de velocidad maxima y distancia total para diferentes parametros de masa** </div>"
   ]
  },
  {
   "cell_type": "code",
   "execution_count": 95,
   "metadata": {},
   "outputs": [
    {
     "data": {
      "image/png": "[encoded data removed]",
      "text/plain": [
       "<matplotlib.figure.Figure at 0x151cb3f080>"
      ]
     },
     "metadata": {},
     "output_type": "display_data"
    }
   ],
   "source": [
    "g1=plt.plot(t0, ang1[:, 1], 'g', label='ng=3')\n",
    "g2=plt.plot(t0, ang2[:, 1], 'r', label='ng=4')\n",
    "g3=plt.plot(t0, ang3[:, 1], 'b', label='ng=5')\n",
    "\n",
    "plt.legend(loc='best')\n",
    "plt.xlabel('t (s)')\n",
    "plt.ylabel('vel (m/s)')\n",
    "plt.grid()\n",
    "plt.show()"
   ]
  },
  {
   "cell_type": "markdown",
   "metadata": {},
   "source": [
    "<div style=\"text-align: left\">**Grafica 2. Variacion de velocidad maxima y distancia total para diferentes parametros de relacion de transmicion** </div>\n",
    "\n",
    "\n",
    "De la tabla de resultados podemos ver que el relacion de transmision afecta de manera significativa el desempeño del kart. Entre mayor relacion de transmision, mayor velocidad tope y mayor distancia recorrida en menos tiempo. Variando la relacion en 1 unidad genera una diferencia entre de velocidades tope del 17.3% o mas o menos 3.5m/s."
   ]
  },
  {
   "cell_type": "markdown",
   "metadata": {},
   "source": [
    "### COEFIEIENTE DE ARRASTRE ###"
   ]
  },
  {
   "cell_type": "code",
   "execution_count": 46,
   "metadata": {
    "collapsed": true
   },
   "outputs": [],
   "source": [
    "masa= 152\n",
    "ng=3.4\n",
    "cd=0.8\n",
    "#cd=0.85\n",
    "#cd=0.89"
   ]
  },
  {
   "cell_type": "code",
   "execution_count": 47,
   "metadata": {},
   "outputs": [
    {
     "name": "stderr",
     "output_type": "stream",
     "text": [
      "/Users/camilogarciatorres/anaconda3/lib/python3.6/site-packages/scipy/integrate/odepack.py:218: ODEintWarning: Excess work done on this call (perhaps wrong Dfun type). Run with full_output = 1 to get quantitative information.\n",
      "  warnings.warn(warning_msg, ODEintWarning)\n"
     ]
    },
    {
     "data": {
      "text/plain": [
       "(('el tiempo desde proceso de arrancada desde cero, llegar a velocidad máxima y frenar a velocidad cero es',\n",
       "  148,\n",
       "  'segundos'),\n",
       " ('La distancia desde proceso de arrancada desde cero, llegar a velocidad máxima y frenar a velocidad cero es',\n",
       "  3282.9572074553375,\n",
       "  'm'),\n",
       " ('La velocidad maxima del kart es', 27.457759069831685, 'm/s'),\n",
       " ('La aceleracion promedio en la primer etapa es',\n",
       "  0.22881465891526404,\n",
       "  'm^2/s'),\n",
       " ('La aceleracion promedio en la segunda etapa es',\n",
       "  7.2480799577196215,\n",
       "  'm^2/s'))"
      ]
     },
     "execution_count": 47,
     "metadata": {},
     "output_type": "execute_result"
    }
   ],
   "source": [
    "cd1=resultados()\n",
    "x0 =[0,0.1]\n",
    "t0 = linspace(0, 100, 100)\n",
    "acd1=odeint(a,x0,t0)\n",
    "cd1"
   ]
  },
  {
   "cell_type": "code",
   "execution_count": 42,
   "metadata": {},
   "outputs": [
    {
     "data": {
      "text/plain": [
       "(('el tiempo desde proceso de arrancada desde cero, llegar a velocidad máxima y frenar a velocidad cero es',\n",
       "  147,\n",
       "  'segundos'),\n",
       " ('La distancia desde proceso de arrancada desde cero, llegar a velocidad máxima y frenar a velocidad cero es',\n",
       "  3194.3718392015953,\n",
       "  'm'),\n",
       " ('La velocidad maxima del kart es', 26.695177432363984, 'm/s'),\n",
       " ('La aceleracion promedio en la primer etapa es',\n",
       "  0.22245981193636652,\n",
       "  'm^2/s'),\n",
       " ('La aceleracion promedio en la segunda etapa es',\n",
       "  7.2711989253506655,\n",
       "  'm^2/s'))"
      ]
     },
     "execution_count": 42,
     "metadata": {},
     "output_type": "execute_result"
    }
   ],
   "source": [
    "cd2=resultados()\n",
    "x0 =[0,0.1]\n",
    "t0 = linspace(0, 100, 100)\n",
    "acd2=odeint(a,x0,t0)\n",
    "cd2"
   ]
  },
  {
   "cell_type": "code",
   "execution_count": 44,
   "metadata": {},
   "outputs": [
    {
     "data": {
      "text/plain": [
       "(('el tiempo desde proceso de arrancada desde cero, llegar a velocidad máxima y frenar a velocidad cero es',\n",
       "  137,\n",
       "  'segundos'),\n",
       " ('La distancia desde proceso de arrancada desde cero, llegar a velocidad máxima y frenar a velocidad cero es',\n",
       "  2865.3710228445079,\n",
       "  'm'),\n",
       " ('La velocidad maxima del kart es', 26.05048875203849, 'm/s'),\n",
       " ('La aceleracion promedio en la primer etapa es',\n",
       "  0.23682262501853171,\n",
       "  'm^2/s'),\n",
       " ('La aceleracion promedio en la segunda etapa es',\n",
       "  7.2404994643827854,\n",
       "  'm^2/s'))"
      ]
     },
     "execution_count": 44,
     "metadata": {},
     "output_type": "execute_result"
    }
   ],
   "source": [
    "cd3=resultados()\n",
    "x0 =[0,0.1]\n",
    "t0 = linspace(0, 100, 100)\n",
    "acd3=odeint(a,x0,t0)\n",
    "cd3"
   ]
  },
  {
   "cell_type": "markdown",
   "metadata": {},
   "source": [
    "A continuacion se presenta una tabla con los valores de la variacion de coeficiente de arrastre cd:\n",
    "    \n",
    "| Coeficiente de Arrastre | 0.8  | 0.85 | 0.89 |\n",
    "|-------------------------|------|------|------|\n",
    "| Vmax (m/s)              | 27.5 | 26.7 | 26.1 |\n",
    "| Distancia total (km)*   | 3.3  | 3.2  | 2.8  |\n",
    "\n",
    "<div style=\"text-align: center\">**Tabla 3. Variacion de velocidad maxima y distancia total para diferentes parametros de coeficiente de arrastre** </div>"
   ]
  },
  {
   "cell_type": "code",
   "execution_count": 45,
   "metadata": {},
   "outputs": [
    {
     "data": {
      "image/png": "[encoded data removed]",
      "text/plain": [
       "<matplotlib.figure.Figure at 0x151cec3f60>"
      ]
     },
     "metadata": {},
     "output_type": "display_data"
    }
   ],
   "source": [
    "g1=plt.plot(t0, acd1[:, 1], 'g', label='cd=0.8')\n",
    "g2=plt.plot(t0, acd2[:, 1], 'r', label='cd=0.85')\n",
    "g3=plt.plot(t0, acd3[:, 1], 'b', label='cd=0.89')\n",
    "\n",
    "plt.legend(loc='best')\n",
    "plt.xlabel('t (s)')\n",
    "plt.ylabel('vel (m/s)')\n",
    "plt.grid()\n",
    "plt.show()"
   ]
  },
  {
   "cell_type": "markdown",
   "metadata": {},
   "source": [
    "<div style=\"text-align: left\">**Grafica 3. Variacion de velocidad maxima y distancia total para diferentes parametros de coeficiente de arrastre** </div>\n",
    "\n",
    "<div style=\"text-align: justify\">El coeficiente de arrastre tambien genera un impacto en el desempeño del kart. La variacion de velocidades tope al cambiar el valor del coeficiente entre 0.8 y 0.89 (valores reportados por Mariana) es de mas del 3%. Ciertamente no es tan importante como la relacion de transmision pero aun es importante tener en cuenta su efecto.</div>"
   ]
  },
  {
   "cell_type": "markdown",
   "metadata": {},
   "source": [
    "### VARIACION DE PARAMETROS PARA EL KART PARA FRENADO ##\n",
    "\n",
    "### MASA: ###\n"
   ]
  },
  {
   "cell_type": "code",
   "execution_count": 100,
   "metadata": {
    "collapsed": true
   },
   "outputs": [],
   "source": [
    "#masa= 152\n",
    "#masa= 160\n",
    "masa= 140\n",
    "cd=0.89\n",
    "\n"
   ]
  },
  {
   "cell_type": "code",
   "execution_count": 97,
   "metadata": {
    "collapsed": true
   },
   "outputs": [],
   "source": [
    "x1=[np.max(integral[:,0]),np.max(integral[:,1])]\n",
    "t0 = linspace(0, 100, 100)\n",
    "am1=odeint(afrenado,x1,t0)"
   ]
  },
  {
   "cell_type": "code",
   "execution_count": 99,
   "metadata": {
    "collapsed": true
   },
   "outputs": [],
   "source": [
    "x1=[np.max(integral[:,0]),np.max(integral[:,1])]\n",
    "t0 = linspace(0, 100, 100)\n",
    "am2=odeint(afrenado,x1,t0)"
   ]
  },
  {
   "cell_type": "code",
   "execution_count": 101,
   "metadata": {
    "collapsed": true
   },
   "outputs": [],
   "source": [
    "x1=[np.max(integral[:,0]),np.max(integral[:,1])]\n",
    "t0 = linspace(0, 100, 100)\n",
    "am3=odeint(afrenado,x1,t0)"
   ]
  },
  {
   "cell_type": "code",
   "execution_count": 102,
   "metadata": {},
   "outputs": [
    {
     "data": {
      "image/png": "[encoded data removed]",
      "text/plain": [
       "<matplotlib.figure.Figure at 0x151d11ef98>"
      ]
     },
     "metadata": {},
     "output_type": "display_data"
    }
   ],
   "source": [
    "g1=plt.plot(t0, am1[:, 1], 'g', label='m=152 kg')\n",
    "g2=plt.plot(t0, am2[:, 1], 'r', label='m=160 kg')\n",
    "g3=plt.plot(t0, am3[:, 1], 'b', label='m=160 kg')\n",
    "\n",
    "plt.legend(loc='best')\n",
    "plt.xlabel('t (s)')\n",
    "plt.ylabel('vel (m/s)')\n",
    "plt.grid()\n",
    "plt.show()"
   ]
  },
  {
   "cell_type": "markdown",
   "metadata": {},
   "source": [
    "<div style=\"text-align: left\">**Grafica 4. Variacion de velocidad maxima y modelo de frenado para diferentes parametros de masa** </div>\n",
    "\n"
   ]
  },
  {
   "cell_type": "markdown",
   "metadata": {},
   "source": [
    "Como era de esperarse, y relacionandolo con el efecto de la masa en la aceleracion. La velocidad de frenado no cambia mucho y el tiempo que le tomo al kar en llegar de velocidad maxima a cero varia alrededor de 1 segundo variando 10 kg de masa."
   ]
  },
  {
   "cell_type": "markdown",
   "metadata": {},
   "source": [
    "\n",
    "### RELACION DE TRANSMISION ###\n",
    "\n",
    "Debido a que el frenado se genera directamente en la parte trasera del kart, el modelo de frenado planteado no tiene en cuenta la relacion de transmision. Por lo tanto la variacion de este solo afecta a la aceleracion\n",
    "\n",
    "### COEFICIENTE DE ARRASTRE ###"
   ]
  },
  {
   "cell_type": "code",
   "execution_count": 141,
   "metadata": {},
   "outputs": [],
   "source": [
    "### COEFICIENTE DE ARRASTRE ###\n",
    "masa= 152\n",
    "#cd= 0.8\n",
    "#cd= 0.85\n",
    "cd=0.89\n",
    "\n",
    "x0 =[0,0.1]\n",
    "t0 = linspace(0, 100, 100)\n",
    "am=odeint(a,x0,t0)\n"
   ]
  },
  {
   "cell_type": "code",
   "execution_count": 138,
   "metadata": {},
   "outputs": [
    {
     "name": "stderr",
     "output_type": "stream",
     "text": [
      "/Users/camilogarciatorres/anaconda3/lib/python3.6/site-packages/scipy/integrate/odepack.py:218: ODEintWarning: Excess work done on this call (perhaps wrong Dfun type). Run with full_output = 1 to get quantitative information.\n",
      "  warnings.warn(warning_msg, ODEintWarning)\n"
     ]
    }
   ],
   "source": [
    "x1=[np.max(am[:,0]),np.max(am[:,1])]\n",
    "t1 = linspace(0, 100, 100)\n",
    "acd1=odeint(afrenado,x1,t1)"
   ]
  },
  {
   "cell_type": "code",
   "execution_count": 140,
   "metadata": {},
   "outputs": [],
   "source": [
    "x1=[np.max(am[:,0]),np.max(am[:,1])]\n",
    "t1 = linspace(0, 100, 100)\n",
    "acd2=odeint(afrenado,x1,t1)"
   ]
  },
  {
   "cell_type": "code",
   "execution_count": 144,
   "metadata": {},
   "outputs": [
    {
     "name": "stderr",
     "output_type": "stream",
     "text": [
      "/Users/camilogarciatorres/anaconda3/lib/python3.6/site-packages/scipy/integrate/odepack.py:218: ODEintWarning: Excess work done on this call (perhaps wrong Dfun type). Run with full_output = 1 to get quantitative information.\n",
      "  warnings.warn(warning_msg, ODEintWarning)\n"
     ]
    }
   ],
   "source": [
    "x1=[np.max(am[:,0]),np.max(am[:,1])]\n",
    "t0 = linspace(0, 100, 100)\n",
    "acd3=odeint(afrenado,x1,t1)"
   ]
  },
  {
   "cell_type": "code",
   "execution_count": 145,
   "metadata": {},
   "outputs": [
    {
     "data": {
      "image/png": "[encoded data removed]",
      "text/plain": [
       "<matplotlib.figure.Figure at 0x151d38f278>"
      ]
     },
     "metadata": {},
     "output_type": "display_data"
    }
   ],
   "source": [
    "g1=plt.plot(t0, acd1[:, 1], 'g', label='cd=0.8')\n",
    "g2=plt.plot(t0, acd2[:, 1], 'r', label='cd=0.85')\n",
    "g3=plt.plot(t0, acd3[:, 1], 'b', label='cd=0.89')\n",
    "\n",
    "plt.legend(loc='best')\n",
    "plt.xlabel('t (s)')\n",
    "plt.ylabel('vel (m/s)')\n",
    "plt.grid()\n",
    "plt.show()"
   ]
  },
  {
   "cell_type": "markdown",
   "metadata": {},
   "source": [
    "<div style=\"text-align: left\">**Grafica 5. Variacion de velocidad maxima y modelo de frenado para diferentes parametros de coeficiente de arrastre** </div>\n",
    "\n"
   ]
  },
  {
   "cell_type": "markdown",
   "metadata": {},
   "source": [
    "<div style=\"text-align: justify\"> Comparandola con el efecto que tuvo en el modelo de aceleracion, sorprendentemente el cambio de coeficiente de arrastre no afecta el desempeño del Kart. Entre las razones que podrian explicar este fenomeno es que en el modelo de aceleracion, la fuerza que mas disminuye la fuerza generada por el torque es la de arrastre. Por el contraraio, en el modelo de frenado todas las fuerzas son negativas y ayudan a frenas y en este caso la fuerza de frenado debe tener mucho mayor peso que la de arrastre</div>"
   ]
  },
  {
   "cell_type": "markdown",
   "metadata": {},
   "source": [
    "## Comentarios finales analisis ##\n",
    "\n",
    "- Lo primero que se debe resaltar es que hubo un problema inicial con la funcion de potencia de Clavijo. La grafica resultante no coincide con la ecuacion reportada. Es por esto que se ajusto la ecuacion a los datos. La ecuacion usada elimina la constante multiplicativa (3.037) y cambia la constante final que suma la ecuacion (de -1.89 a 12.89).\n",
    "\n",
    "- La velocidad maxima de clavijo estuvo cerca al valor de 17 m/s segundo, mientras que el modelo analizado fue de 29.14 m/s, la diferencia se puede explicar probablemente debido a el cambio en la funcion de potencia utilizada por clavijo, ademas se utilizo la relacion de transmicion reportada por mariana. La velocidad maxima de mariana estuvo alrededor de los 25m/s. El error relativo entre las velocidad debido al cambio de funcion esta alrededor del 16%, lo cual es una diferencia significativa. Este error puede ser tambien debido al cambio de la funcion de potencia de clavijo \n",
    "\n",
    "- La fuerza de frenado utilizada es de 125 N. Utilizando un torque de 17 Nm que es valor  entregado por el motor en el frenado. En general un mayor torque genera un frenado mas rapido.\n",
    "\n",
    "- El valor de la relacion de transmicion y eficiencia de transmision afectan notablemente el desempeno del carro. Una mayor relacion de transmicion y eficiencia generaran una velocidad maxima mayor. En el caso de la funcion aceleraryfrenar() se utilizo la relacion y eficiencia de Mariana Cordoba.\n"
   ]
  },
  {
   "cell_type": "markdown",
   "metadata": {},
   "source": [
    "## Conclusiones ##\n",
    "- El vector linspace afecta la precision de la funcion aceleraryfrenar(), al principio el tiempo total del recorrido no coincidia con la grafica. Se recomienda que el numero de partes en la que se divida el vector sea un numero grande. Para mi funcion, en el recorrido se uso una distancia de 5 segundo entre cada periodo de tiempo y el vector fue dividido en 100 partes. \n",
    "\n",
    "- La relacion de transimicion y eficiencia afecta la aceleracion del Kart. Por otro lado, el frenado del Kart no tiene en cuenta estas perdidas, y debido a que las fuerzas son todas negativas, esto genera la respuesta de una aceleracion de frenado mucho mas grande a la acelaracion hasta llegar a velocidad maxima.\n",
    "\n",
    "- El cambio de funcion de potencia genero una velocidad maxima de 29 m/s aproximadamente. Mas rapido que las velocidades de mariana y clavijo.\n",
    "\n",
    "- La distancia recorrida por el kart es alrededor de 3 km. Una distancia un poco larga para alcanzar velocidad maxima y volver a llegar a velociad cero \n",
    "\n",
    "- En aceleracion, la relacion de transimicion es la variable con mas efecto en la aceleracion del kart, con un aumento de velocidad de hasta 3 m/s por unidad. Le sigue el coeficiente de arrastre con cambio de velocidad pico de 1 a 0.5 m/s y por ultimo la masa que no afecto mucho el rendimiento del carro\n",
    "\n",
    "- Al contrario de lo esperado, el coeficiente de friccion tiene un efecto bajo en el modelo de frenado del kart. La otra variable analizada que es la masa tampoco tiene un efecto significativo en el frenado. Por ultimo, la relacion de transmision no importa en el frenado ya que la fuerza se aplica en las llantas traseras."
   ]
  }
 ],
 "metadata": {
  "kernelspec": {
   "display_name": "Python 3",
   "language": "python",
   "name": "python3"
  },
  "language_info": {
   "codemirror_mode": {
    "name": "ipython",
    "version": 3
   },
   "file_extension": ".py",
   "mimetype": "text/x-python",
   "name": "python",
   "nbconvert_exporter": "python",
   "pygments_lexer": "ipython3",
   "version": "3.6.3"
  }
 },
 "nbformat": 4,
 "nbformat_minor": 2
}
